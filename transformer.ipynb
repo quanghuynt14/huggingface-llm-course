{
 "cells": [
  {
   "cell_type": "markdown",
   "id": "9e3bc7f0",
   "metadata": {},
   "source": [
    "Read: https://huggingface.co/learn/llm-course/chapter1/3?fw=pt\n",
    "\n",
    "### 1. Set up a virtual environment\n",
    "\n",
    "Read: https://huggingface.co/learn/llm-course/chapter0/1#using-a-python-virtual-environment\n",
    "\n",
    "Step 1: Create a virtual environment\n",
    "  ```bash\n",
    "  python3 -m venv .env\n",
    "  ```\n",
    "Step 2: Activate the virtual environment\n",
    "  ```bash\n",
    "  source .env/bin/activate\n",
    "  ```\n",
    "Step 3: Check if the virtual environment is activated\n",
    "  ```bash\n",
    "  which python\n",
    "  ``` \n",
    "  (should point to `.env/bin/python`)\n",
    "  \n",
    "Step 4: Install the required packages\n",
    "  ```bash\n",
    "  pip install transformers torch\n",
    "  ```"
   ]
  },
  {
   "cell_type": "markdown",
   "id": "83633174",
   "metadata": {},
   "source": [
    "### 2. How to use `pipeline()` function"
   ]
  },
  {
   "cell_type": "code",
   "execution_count": 1,
   "id": "f27d88d0",
   "metadata": {},
   "outputs": [
    {
     "name": "stderr",
     "output_type": "stream",
     "text": [
      "/Users/quanghuy/Documents/dev/hf/huggingface-llm-course/.env/lib/python3.9/site-packages/urllib3/__init__.py:35: NotOpenSSLWarning: urllib3 v2 only supports OpenSSL 1.1.1+, currently the 'ssl' module is compiled with 'LibreSSL 2.8.3'. See: https://github.com/urllib3/urllib3/issues/3020\n",
      "  warnings.warn(\n",
      "/Users/quanghuy/Documents/dev/hf/huggingface-llm-course/.env/lib/python3.9/site-packages/tqdm/auto.py:21: TqdmWarning: IProgress not found. Please update jupyter and ipywidgets. See https://ipywidgets.readthedocs.io/en/stable/user_install.html\n",
      "  from .autonotebook import tqdm as notebook_tqdm\n",
      "No model was supplied, defaulted to distilbert/distilbert-base-uncased-finetuned-sst-2-english and revision 714eb0f (https://huggingface.co/distilbert/distilbert-base-uncased-finetuned-sst-2-english).\n",
      "Using a pipeline without specifying a model name and revision in production is not recommended.\n",
      "Device set to use mps:0\n"
     ]
    },
    {
     "data": {
      "text/plain": [
       "[{'label': 'POSITIVE', 'score': 0.9598050713539124}]"
      ]
     },
     "execution_count": 1,
     "metadata": {},
     "output_type": "execute_result"
    }
   ],
   "source": [
    "from transformers import pipeline\n",
    "\n",
    "classifier = pipeline(\"sentiment-analysis\")\n",
    "classifier(\"I've been waiting for a HuggingFace course my whole life.\")"
   ]
  },
  {
   "cell_type": "code",
   "execution_count": 2,
   "id": "2f03d531",
   "metadata": {},
   "outputs": [
    {
     "data": {
      "text/plain": [
       "[{'label': 'POSITIVE', 'score': 0.9598050713539124},\n",
       " {'label': 'NEGATIVE', 'score': 0.9994558691978455}]"
      ]
     },
     "execution_count": 2,
     "metadata": {},
     "output_type": "execute_result"
    }
   ],
   "source": [
    "classifier(\n",
    "    [\"I've been waiting for a HuggingFace course my whole life.\", \"I hate this so much!\"]\n",
    ")"
   ]
  },
  {
   "cell_type": "markdown",
   "id": "456a1930",
   "metadata": {},
   "source": [
    "#### What is a pipeline?\n",
    "Read: https://huggingface.co/docs/transformers/main_classes/pipelines\n",
    "\n",
    "- A pipeline is a high-level API designed to make using models easy and intuitive.\n",
    "- A pipeline is essentially a task, such as sentiment analysis, text generation, translation, etc.\n",
    "- Internally, a task is implemented as a function that:\n",
    "  - Takes input (like a string or text).\n",
    "  - Processes it through steps like tokenization, model inference, and postprocessing.\n",
    "  - Returns the output (like a label, translated text, generated text, etc.).\n",
    "- The pipeline API abstracts away the complexities of:\n",
    "  - Loading the right model.\n",
    "  - Tokenizing the input.\n",
    "  - Performing inference.\n",
    "  - Formatting the output.\n",
    "\n"
   ]
  },
  {
   "cell_type": "code",
   "execution_count": 8,
   "id": "981dc06e",
   "metadata": {},
   "outputs": [
    {
     "name": "stderr",
     "output_type": "stream",
     "text": [
      "No model was supplied, defaulted to facebook/bart-large-mnli and revision d7645e1 (https://huggingface.co/facebook/bart-large-mnli).\n",
      "Using a pipeline without specifying a model name and revision in production is not recommended.\n",
      "Device set to use mps:0\n"
     ]
    },
    {
     "data": {
      "text/plain": [
       "{'sequence': 'This is a course about the Transformers library',\n",
       " 'labels': ['education', 'game', 'business', 'politics'],\n",
       " 'scores': [0.7446962594985962,\n",
       "  0.11828131228685379,\n",
       "  0.09873156994581223,\n",
       "  0.03829091414809227]}"
      ]
     },
     "execution_count": 8,
     "metadata": {},
     "output_type": "execute_result"
    }
   ],
   "source": [
    "from transformers import pipeline\n",
    "\n",
    "classifier = pipeline(\"zero-shot-classification\")\n",
    "classifier(\n",
    "    \"This is a course about the Transformers library\",\n",
    "    candidate_labels=[\"education\", \"game\", \"politics\", \"business\"],\n",
    ")"
   ]
  },
  {
   "cell_type": "markdown",
   "id": "cb2d0ab7",
   "metadata": {},
   "source": [
    "#### Use specific model for a pipeline\n",
    "Read: https://huggingface.co/learn/llm-course/chapter1/3?fw=pt#using-any-model-from-the-hub-in-a-pipeline"
   ]
  },
  {
   "cell_type": "code",
   "execution_count": 11,
   "id": "de39c813",
   "metadata": {},
   "outputs": [
    {
     "name": "stderr",
     "output_type": "stream",
     "text": [
      "Device set to use mps:0\n"
     ]
    }
   ],
   "source": [
    "from transformers import pipeline\n",
    "\n",
    "pipe = pipeline(\"translation_en_to_fr\", model=\"google-t5/t5-small\")"
   ]
  },
  {
   "cell_type": "code",
   "execution_count": 13,
   "id": "70feadc6",
   "metadata": {},
   "outputs": [
    {
     "data": {
      "text/plain": [
       "[{'translation_text': \"J'ai faim\"}]"
      ]
     },
     "execution_count": 13,
     "metadata": {},
     "output_type": "execute_result"
    }
   ],
   "source": [
    "pipe(\"I am hungry\")"
   ]
  }
 ],
 "metadata": {
  "kernelspec": {
   "display_name": ".env",
   "language": "python",
   "name": "python3"
  },
  "language_info": {
   "codemirror_mode": {
    "name": "ipython",
    "version": 3
   },
   "file_extension": ".py",
   "mimetype": "text/x-python",
   "name": "python",
   "nbconvert_exporter": "python",
   "pygments_lexer": "ipython3",
   "version": "3.9.6"
  }
 },
 "nbformat": 4,
 "nbformat_minor": 5
}
